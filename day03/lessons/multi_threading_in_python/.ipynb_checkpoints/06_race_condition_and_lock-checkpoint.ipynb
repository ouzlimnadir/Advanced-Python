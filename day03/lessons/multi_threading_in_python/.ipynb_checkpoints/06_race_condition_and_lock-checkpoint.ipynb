{
 "cells": [
  {
   "cell_type": "code",
   "execution_count": 7,
   "id": "b0c7ae7b",
   "metadata": {},
   "outputs": [
    {
     "name": "stderr",
     "output_type": "stream",
     "text": [
      "Exception in thread Thread-16:\n",
      "Traceback (most recent call last):\n",
      "  File \"/usr/lib/python3.8/threading.py\", line 932, in _bootstrap_inner\n",
      "    self.run()\n",
      "  File \"/usr/lib/python3.8/threading.py\", line 870, in run\n",
      "    self._target(*self._args, **self._kwargs)\n",
      "  File \"<ipython-input-7-d0ddc946a624>\", line 34, in add\n",
      "Exception in thread Thread-17:\n",
      "Traceback (most recent call last):\n",
      "  File \"/usr/lib/python3.8/threading.py\", line 932, in _bootstrap_inner\n",
      "    self.run()\n",
      "  File \"/usr/lib/python3.8/threading.py\", line 870, in run\n",
      "    self._target(*self._args, **self._kwargs)\n",
      "  File \"<ipython-input-7-d0ddc946a624>\", line 40, in subtract\n",
      "UnboundLocalError: local variable 'num' referenced before assignment\n",
      "UnboundLocalError: local variable 'num' referenced before assignment\n"
     ]
    },
    {
     "name": "stdout",
     "output_type": "stream",
     "text": [
      "0\n",
      "Done...\n"
     ]
    }
   ],
   "source": [
    "'''\n",
    "    Race condition\n",
    "    Thread Safe\n",
    "    Dead lock\n",
    "\n",
    "    A race condition is a situation that can occur in multithreaded or multiprocessing programs\n",
    "    where the behavior of the program depends on the relative timing or interleaving of the execution\n",
    "    of concurrent operations. In simpler terms, it refers to a scenario where the output or behavior\n",
    "    of a program becomes unpredictable because multiple threads or processes are accessing \n",
    "    and modifying shared resources concurrently without proper synchronization.\n",
    "\n",
    "'''\n",
    "\n",
    "\n",
    "# notice that sometimes it returns 0 without lock but it's not reliable\n",
    "\n",
    "from threading import Thread, Lock\n",
    "\n",
    "num = 0 # this variable is a shared resource between the Threads\n",
    "lock = Lock()\n",
    "\n",
    "def add():\n",
    "    global num\n",
    "\n",
    "    #first method of using lock:\n",
    "    #lock.acquire()\n",
    "    #for _ in range(100000):\n",
    "    #     num += 1\n",
    "    #lock.release()\n",
    "\n",
    "    ## second method of using lock:\n",
    "    #with lock:\n",
    "    for _ in range(100000):\n",
    "        num += 1\n",
    "\n",
    "def subtract():\n",
    "    global num\n",
    "    with lock:\n",
    "        for _ in range(100000):\n",
    "            num -= 1\n",
    "    \n",
    "\n",
    "t1 = Thread(target=add)\n",
    "t2 = Thread(target=subtract)\n",
    "\n",
    "t1.start()\n",
    "t2.start()\n",
    "\n",
    "t1.join()\n",
    "t2.join()\n",
    "\n",
    "print(num)\n",
    "print('Done...')"
   ]
  },
  {
   "cell_type": "code",
   "execution_count": null,
   "id": "93c7adb9",
   "metadata": {},
   "outputs": [],
   "source": []
  }
 ],
 "metadata": {
  "kernelspec": {
   "display_name": "Python 3",
   "language": "python",
   "name": "python3"
  },
  "language_info": {
   "codemirror_mode": {
    "name": "ipython",
    "version": 3
   },
   "file_extension": ".py",
   "mimetype": "text/x-python",
   "name": "python",
   "nbconvert_exporter": "python",
   "pygments_lexer": "ipython3",
   "version": "3.8.10"
  }
 },
 "nbformat": 4,
 "nbformat_minor": 5
}
