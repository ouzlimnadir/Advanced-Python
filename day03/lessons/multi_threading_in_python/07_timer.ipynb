{
 "cells": [
  {
   "cell_type": "code",
   "execution_count": 3,
   "id": "4a468787",
   "metadata": {},
   "outputs": [
    {
     "name": "stdout",
     "output_type": "stream",
     "text": [
      "Doing other tasks...\n",
      "Timer complete!\n",
      "Timer finished.\n"
     ]
    },
    {
     "data": {
      "text/plain": [
       "'\\n    In this example, a timer is created using threading.Timer(5, timer_callback), \\n    where 5 represents the delay in seconds and timer_callback is the function that will be \\n    executed when the timer completes. The start() method starts the timer, and the main \\n    thread continues to execute other tasks while the timer is running.\\n\\n    The timer.join() call is used to block the main thread until the timer completes. \\n    This is optional but can be useful if you want to wait for the timer to finish before \\n    proceeding with other actions.\\n\\n    When the timer completes, the timer_callback() function is executed, and \"Timer complete!\" i\\n    s printed. Finally, \"Timer finished.\" is printed to indicate that the timer has finished execution.\\n'"
      ]
     },
     "execution_count": 3,
     "metadata": {},
     "output_type": "execute_result"
    }
   ],
   "source": [
    "'''\n",
    "    To create a timer using the threading module in Python, you can utilize the Timer class. \n",
    "    The Timer class allows you to execute a function after a specified delay. \n",
    "    Here's an example:\n",
    "'''\n",
    "\n",
    "import threading\n",
    "\n",
    "def timer_callback():\n",
    "    print(\"Timer complete!\")\n",
    "\n",
    "# Create a timer that will execute the callback after 5 seconds\n",
    "timer = threading.Timer(5, timer_callback)\n",
    "timer.start()\n",
    "\n",
    "# Do other tasks while the timer is running\n",
    "print(\"Doing other tasks...\")\n",
    "\n",
    "# Wait for the timer to complete\n",
    "timer.join()\n",
    "\n",
    "print(\"Timer finished.\")\n",
    "\n",
    "'''\n",
    "    In this example, a timer is created using threading.Timer(5, timer_callback), \n",
    "    where 5 represents the delay in seconds and timer_callback is the function that will be \n",
    "    executed when the timer completes. The start() method starts the timer, and the main \n",
    "    thread continues to execute other tasks while the timer is running.\n",
    "\n",
    "    The timer.join() call is used to block the main thread until the timer completes. \n",
    "    This is optional but can be useful if you want to wait for the timer to finish before \n",
    "    proceeding with other actions.\n",
    "\n",
    "    When the timer completes, the timer_callback() function is executed, and \"Timer complete!\" i\n",
    "    s printed. Finally, \"Timer finished.\" is printed to indicate that the timer has finished execution.\n",
    "'''"
   ]
  },
  {
   "cell_type": "code",
   "execution_count": null,
   "id": "d22f60a6",
   "metadata": {},
   "outputs": [],
   "source": []
  },
  {
   "cell_type": "code",
   "execution_count": null,
   "id": "7788cf21",
   "metadata": {},
   "outputs": [],
   "source": []
  }
 ],
 "metadata": {
  "kernelspec": {
   "display_name": "Python 3",
   "language": "python",
   "name": "python3"
  },
  "language_info": {
   "codemirror_mode": {
    "name": "ipython",
    "version": 3
   },
   "file_extension": ".py",
   "mimetype": "text/x-python",
   "name": "python",
   "nbconvert_exporter": "python",
   "pygments_lexer": "ipython3",
   "version": "3.8.10"
  }
 },
 "nbformat": 4,
 "nbformat_minor": 5
}
