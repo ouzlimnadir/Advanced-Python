{
 "cells": [
  {
   "cell_type": "code",
   "execution_count": 2,
   "id": "e1ce6d39",
   "metadata": {},
   "outputs": [
    {
     "name": "stdout",
     "output_type": "stream",
     "text": [
      "One started.\n",
      "First  is running.\n",
      "Two started.\n",
      "Second  is running.\n",
      "current threads alive:  [<_MainThread(MainThread, started 139779173189440)>, <Thread(Thread-2, started daemon 139779087963904)>, <Heartbeat(Thread-3, started daemon 139779079571200)>, <HistorySavingThread(IPythonHistorySavingThread, started 139779054130944)>, <ParentPollerUnix(Thread-1, started daemon 139778704013056)>, <Thread(First, started 139778695620352)>, <Thread(Second, started 139778687227648)>] <_MainThread(MainThread, started 139779173189440)>\n",
      "One finished.\n",
      "Two finished.\n",
      "3.005072818001281\n"
     ]
    }
   ],
   "source": [
    "from time import sleep, perf_counter\n",
    "from threading import Thread, current_thread, enumerate\n",
    "\n",
    "\n",
    "# enumerate returns a list of all Thread objects alive.\n",
    "\n",
    "start = perf_counter()\n",
    "\n",
    "def show(name):\n",
    "    print(f'{name} started.')\n",
    "    print(current_thread().name, ' is running.')\n",
    "    sleep(3)\n",
    "    print(f'{name} finished.')\n",
    "\n",
    "\n",
    "t1 = Thread(target=show, args=('One',), name= 'First')\n",
    "t2 = Thread(target=show, args=('Two',), name= 'Second')\n",
    "t1.start()\n",
    "t2.start()\n",
    "\n",
    "print('current threads alive: ', enumerate(), current_thread())\n",
    "\n",
    "t1.join() # wait until thread t1 is finished\n",
    "t2.join() # wait until thread t2 is finished\n",
    "\n",
    "end = perf_counter()\n",
    "\n",
    "print(end - start)"
   ]
  },
  {
   "cell_type": "code",
   "execution_count": null,
   "id": "99b54b77",
   "metadata": {},
   "outputs": [],
   "source": []
  }
 ],
 "metadata": {
  "kernelspec": {
   "display_name": "Python 3",
   "language": "python",
   "name": "python3"
  },
  "language_info": {
   "codemirror_mode": {
    "name": "ipython",
    "version": 3
   },
   "file_extension": ".py",
   "mimetype": "text/x-python",
   "name": "python",
   "nbconvert_exporter": "python",
   "pygments_lexer": "ipython3",
   "version": "3.8.10"
  }
 },
 "nbformat": 4,
 "nbformat_minor": 5
}
