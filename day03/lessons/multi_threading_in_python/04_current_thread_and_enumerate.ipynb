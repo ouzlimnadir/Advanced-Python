{
 "cells": [
  {
   "cell_type": "code",
   "execution_count": 5,
   "id": "57271713",
   "metadata": {},
   "outputs": [
    {
     "name": "stdout",
     "output_type": "stream",
     "text": [
      "One started.\n",
      "First  is running. <Thread(First, started 139778695620352)>\n",
      "Two started.\n",
      "Second  is running. <Thread(Second, started 139778687227648)>\n",
      "Two finished.One finished.\n",
      "\n",
      "3.005278709000777\n"
     ]
    }
   ],
   "source": [
    "from time import sleep, perf_counter\n",
    "from threading import Thread, current_thread, enumerate\n",
    "\n",
    "\n",
    "# enumerate returns a list of all Thread objects alive.\n",
    "\n",
    "start = perf_counter()\n",
    "\n",
    "def show(name):\n",
    "    print(f'{name} started.')\n",
    "    print(current_thread().name, ' is running.', current_thread())\n",
    "    sleep(3)\n",
    "    print(f'{name} finished.')\n",
    "\n",
    "\n",
    "t1 = Thread(target=show, args=('One',), name= 'First')\n",
    "t2 = Thread(target=show, args=('Two',), name= 'Second')\n",
    "t1.start()\n",
    "t2.start()\n",
    "\n",
    "#print('current threads alive: ', enumerate())\n",
    "\n",
    "t1.join() # wait until thread t1 is finished\n",
    "t2.join() # wait until thread t2 is finished\n",
    "\n",
    "end = perf_counter()\n",
    "\n",
    "print(end - start)"
   ]
  },
  {
   "cell_type": "code",
   "execution_count": null,
   "id": "c19fe564",
   "metadata": {},
   "outputs": [],
   "source": []
  }
 ],
 "metadata": {
  "kernelspec": {
   "display_name": "Python 3",
   "language": "python",
   "name": "python3"
  },
  "language_info": {
   "codemirror_mode": {
    "name": "ipython",
    "version": 3
   },
   "file_extension": ".py",
   "mimetype": "text/x-python",
   "name": "python",
   "nbconvert_exporter": "python",
   "pygments_lexer": "ipython3",
   "version": "3.8.10"
  }
 },
 "nbformat": 4,
 "nbformat_minor": 5
}
