{
 "cells": [
  {
   "cell_type": "code",
   "execution_count": 2,
   "id": "e919d19f",
   "metadata": {},
   "outputs": [
    {
     "name": "stdout",
     "output_type": "stream",
     "text": [
      "*** normal execution ***\n",
      "One started.\n",
      "One finished.\n",
      "Two started.\n",
      "Two finished.\n",
      "6.006473594999989\n",
      "*** using multi-threading ***\n",
      "One started.\n",
      "Two started.\n",
      "using multi-threading:  0.0038988689993857406\n",
      "One finished.\n",
      "Two finished.\n"
     ]
    }
   ],
   "source": [
    "from time import sleep, perf_counter\n",
    "from threading import Thread\n",
    "\n",
    "print('*** normal execution ***')\n",
    "\n",
    "start = perf_counter()\n",
    "\n",
    "def show(name, delay):\n",
    "    print(f'{name} started.')\n",
    "    sleep(delay)\n",
    "    print(f'{name} finished.')\n",
    "\n",
    "show('One', 3)\n",
    "show('Two', 3)\n",
    "end = perf_counter()\n",
    "print(end - start)\n",
    "\n",
    "######################## multi-threading #########################\n",
    "\n",
    "print('*** using multi-threading ***')\n",
    "\n",
    "start = perf_counter()\n",
    "\n",
    "class ShowThread(Thread):\n",
    "    def __init__(self, name, delay):\n",
    "        super().__init__()\n",
    "        self.name = name\n",
    "        self.delay = delay\n",
    "\n",
    "    def run(self):\n",
    "        show(self.name, self.delay)\n",
    "\n",
    "t1 = ShowThread('One', 3)\n",
    "t2 = ShowThread('Two', 3)\n",
    "\n",
    "t1.start()\n",
    "t2.start()\n",
    "\n",
    "#t1.join()\n",
    "#t2.join()\n",
    "\n",
    "end = perf_counter()\n",
    "\n",
    "print('using multi-threading: ', end - start)\n",
    "\n",
    "\n"
   ]
  }
 ],
 "metadata": {
  "kernelspec": {
   "display_name": "Python 3",
   "language": "python",
   "name": "python3"
  },
  "language_info": {
   "codemirror_mode": {
    "name": "ipython",
    "version": 3
   },
   "file_extension": ".py",
   "mimetype": "text/x-python",
   "name": "python",
   "nbconvert_exporter": "python",
   "pygments_lexer": "ipython3",
   "version": "3.8.10"
  }
 },
 "nbformat": 4,
 "nbformat_minor": 5
}
