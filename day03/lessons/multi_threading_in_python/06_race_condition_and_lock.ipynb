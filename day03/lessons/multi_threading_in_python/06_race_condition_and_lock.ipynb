{
 "cells": [
  {
   "cell_type": "code",
   "execution_count": 17,
   "id": "dab02618",
   "metadata": {},
   "outputs": [
    {
     "name": "stdout",
     "output_type": "stream",
     "text": [
      "-99999.90234375\n",
      "Done...\n"
     ]
    }
   ],
   "source": [
    "'''\n",
    "    Race condition\n",
    "    Thread Safe\n",
    "    Dead lock\n",
    "\n",
    "    A race condition is a situation that can occur in multithreaded or multiprocessing programs\n",
    "    where the behavior of the program depends on the relative timing or interleaving of the execution\n",
    "    of concurrent operations. In simpler terms, it refers to a scenario where the output or behavior\n",
    "    of a program becomes unpredictable because multiple threads or processes are accessing \n",
    "    and modifying shared resources concurrently without proper synchronization.\n",
    "\n",
    "'''\n",
    "\n",
    "\n",
    "# notice that sometimes it returns 0 without lock but it's not reliable\n",
    "\n",
    "from threading import Thread, Lock\n",
    "\n",
    "num = 100 # this variable is a shared resource between the Threads\n",
    "lock = Lock()\n",
    "\n",
    "def add():\n",
    "    global num\n",
    "\n",
    "    #first method of using lock:\n",
    "    #lock.acquire()\n",
    "    #for _ in range(100000):\n",
    "    #     num += 1\n",
    "    #lock.release()\n",
    "\n",
    "    ## second method of using lock:\n",
    "    #with lock:\n",
    "    for _ in range(10):\n",
    "        num /= 2\n",
    "\n",
    "def subtract():\n",
    "    global num\n",
    "    #with lock:\n",
    "    for _ in range(100000):\n",
    "        num -= 1\n",
    "    \n",
    "\n",
    "t1 = Thread(target=add)\n",
    "t2 = Thread(target=subtract)\n",
    "\n",
    "t1.start()\n",
    "t2.start()\n",
    "\n",
    "t1.join()\n",
    "t2.join()\n",
    "\n",
    "print(num)\n",
    "print('Done...')"
   ]
  },
  {
   "cell_type": "code",
   "execution_count": 182,
   "id": "4ea0a418",
   "metadata": {},
   "outputs": [
    {
     "name": "stdout",
     "output_type": "stream",
     "text": [
      "3602550000\n"
     ]
    }
   ],
   "source": [
    "from threading import Thread, Lock\n",
    "\n",
    "class Counter:\n",
    "    def __init__(self):\n",
    "        self.count = 0\n",
    "        self.lock = Lock()\n",
    "\n",
    "    def increment(self):\n",
    "        with self.lock:\n",
    "            self.count += 1\n",
    "\n",
    "def worker(counter):\n",
    "    for _ in range(10000):\n",
    "        counter.increment()\n",
    "\n",
    "counter = Counter()\n",
    "threads = [Thread(target=worker, args=(counter,)) for _ in range(10)]\n",
    "\n",
    "for thread in threads:\n",
    "    thread.start()\n",
    "\n",
    "for thread in threads:\n",
    "    thread.join()\n",
    "\n",
    "print(counter.count)\n"
   ]
  },
  {
   "cell_type": "code",
   "execution_count": 176,
   "id": "1ab0550e",
   "metadata": {},
   "outputs": [
    {
     "name": "stdout",
     "output_type": "stream",
     "text": [
      "3596550000\n"
     ]
    },
    {
     "data": {
      "text/plain": [
       "30656"
      ]
     },
     "execution_count": 176,
     "metadata": {},
     "output_type": "execute_result"
    }
   ],
   "source": [
    "from threading import Thread\n",
    "from threading import current_thread, enumerate\n",
    "\n",
    "\n",
    "class Counter:\n",
    "    def __init__(self):\n",
    "        self.count = 0\n",
    "\n",
    "    def increment(self):\n",
    "        self.count += 1\n",
    "\n",
    "def worker(counter):\n",
    "    for _ in range(10000):\n",
    "        counter.increment()\n",
    "        \n",
    "counter = Counter()\n",
    "threads = [Thread(target=worker, args=(counter,)) for _ in range(10)]\n",
    "\n",
    "for thread in threads:\n",
    "    thread.start()\n",
    "\n",
    "for thread in threads:\n",
    "    thread.join()\n",
    "\n",
    "print(counter.count)\n",
    "current_thread().native_id"
   ]
  },
  {
   "cell_type": "code",
   "execution_count": null,
   "id": "7977ab4c",
   "metadata": {},
   "outputs": [],
   "source": []
  }
 ],
 "metadata": {
  "kernelspec": {
   "display_name": "Python 3",
   "language": "python",
   "name": "python3"
  },
  "language_info": {
   "codemirror_mode": {
    "name": "ipython",
    "version": 3
   },
   "file_extension": ".py",
   "mimetype": "text/x-python",
   "name": "python",
   "nbconvert_exporter": "python",
   "pygments_lexer": "ipython3",
   "version": "3.8.10"
  }
 },
 "nbformat": 4,
 "nbformat_minor": 5
}
