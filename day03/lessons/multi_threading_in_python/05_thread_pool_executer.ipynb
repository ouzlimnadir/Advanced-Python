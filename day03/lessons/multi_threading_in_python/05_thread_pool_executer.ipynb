{
 "cells": [
  {
   "cell_type": "code",
   "execution_count": 11,
   "id": "df3f37f6",
   "metadata": {},
   "outputs": [
    {
     "name": "stdout",
     "output_type": "stream",
     "text": [
      "One started.\n",
      "Two started.\n",
      "Three started.\n",
      "Four started.\n",
      "Five started.\n",
      "Six started.\n",
      "Seven started.\n",
      "Eight started.\n",
      "One finished.\n",
      "Three finished.\n",
      "Seven finished.\n",
      "Four finished.\n",
      "Eight finished.Six finished.\n",
      "\n",
      "Two finished.\n",
      "Five finished.\n",
      "Done ...\n"
     ]
    }
   ],
   "source": [
    "'''\n",
    "In Python, you can use the concurrent.futures module to implement a thread pool executor.\n",
    "The ThreadPoolExecutor class provides an easy-to-use interface for managing a pool of worker threads.\n",
    "Here's an example of how you can use it:\n",
    "'''\n",
    "\n",
    "from time import sleep\n",
    "from concurrent.futures import ThreadPoolExecutor\n",
    "\n",
    "def show(name):\n",
    "    s=0.\n",
    "    print(f'{name} started.')\n",
    "    sleep(3)\n",
    "    for i in range(100000):\n",
    "        s=s+i\n",
    "    print(f'{name} finished.')\n",
    "\n",
    "# the best way of using ThreadPoolExecutor is to use as a context manager:\n",
    "\n",
    "with ThreadPoolExecutor() as executer:\n",
    "    names = ['One', 'Two', 'Three', 'Four', 'Five', 'Six', 'Seven', 'Eight']\n",
    "    executer.map(show, names)\n",
    "\n",
    "# if we want to execute the threads two by two:\n",
    "\n",
    "#with ThreadPoolExecutor(max_workers=2) as executer:\n",
    "#     names = ['One', 'Two', 'Three', 'Four', 'Five', 'Six', 'Seven', 'Eight']\n",
    "#     executer.map(show, names)\n",
    "\n",
    "print('Done ...')\n",
    "\n",
    "\n"
   ]
  },
  {
   "cell_type": "code",
   "execution_count": null,
   "id": "218cfb3a",
   "metadata": {},
   "outputs": [],
   "source": []
  }
 ],
 "metadata": {
  "kernelspec": {
   "display_name": "Python 3",
   "language": "python",
   "name": "python3"
  },
  "language_info": {
   "codemirror_mode": {
    "name": "ipython",
    "version": 3
   },
   "file_extension": ".py",
   "mimetype": "text/x-python",
   "name": "python",
   "nbconvert_exporter": "python",
   "pygments_lexer": "ipython3",
   "version": "3.8.10"
  }
 },
 "nbformat": 4,
 "nbformat_minor": 5
}
