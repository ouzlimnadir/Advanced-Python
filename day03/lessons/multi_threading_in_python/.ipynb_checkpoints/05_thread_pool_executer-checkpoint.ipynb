{
 "cells": [
  {
   "cell_type": "code",
   "execution_count": 3,
   "id": "4547896c",
   "metadata": {},
   "outputs": [
    {
     "name": "stdout",
     "output_type": "stream",
     "text": [
      "One started.\n",
      "Two started.\n",
      "One finished.\n",
      "Three started.\n",
      "Two finished.\n",
      "Four started.\n",
      "Three finished.\n",
      "Five started.\n",
      "Four finished.\n",
      "Six started.\n",
      "Five finished.\n",
      "Seven started.\n",
      "Six finished.\n",
      "Eight started.\n",
      "Seven finished.\n",
      "Eight finished.\n",
      "Done ...\n"
     ]
    }
   ],
   "source": [
    "'''\n",
    "In Python, you can use the concurrent.futures module to implement a thread pool executor.\n",
    "The ThreadPoolExecutor class provides an easy-to-use interface for managing a pool of worker threads.\n",
    "Here's an example of how you can use it:\n",
    "'''\n",
    "\n",
    "from time import sleep\n",
    "from concurrent.futures import ThreadPoolExecutor\n",
    "\n",
    "def show(name):\n",
    "    print(f'{name} started.')\n",
    "    sleep(3)\n",
    "    print(f'{name} finished.')\n",
    "\n",
    "# the best way of using ThreadPoolExecutor is to use as a context manager:\n",
    "\n",
    "#with ThreadPoolExecutor() as executer:\n",
    "#    names = ['One', 'Two', 'Three', 'Four', 'Five', 'Six', 'Seven', 'Eight']\n",
    "#    executer.map(show, names)\n",
    "\n",
    "# if we want to execute the threads two by two:\n",
    "\n",
    "with ThreadPoolExecutor(max_workers=2) as executer:\n",
    "     names = ['One', 'Two', 'Three', 'Four', 'Five', 'Six', 'Seven', 'Eight']\n",
    "     executer.map(show, names)\n",
    "\n",
    "print('Done ...')\n",
    "\n",
    "\n"
   ]
  },
  {
   "cell_type": "code",
   "execution_count": null,
   "id": "27c09c20",
   "metadata": {},
   "outputs": [],
   "source": []
  }
 ],
 "metadata": {
  "kernelspec": {
   "display_name": "Python 3",
   "language": "python",
   "name": "python3"
  },
  "language_info": {
   "codemirror_mode": {
    "name": "ipython",
    "version": 3
   },
   "file_extension": ".py",
   "mimetype": "text/x-python",
   "name": "python",
   "nbconvert_exporter": "python",
   "pygments_lexer": "ipython3",
   "version": "3.8.10"
  }
 },
 "nbformat": 4,
 "nbformat_minor": 5
}
