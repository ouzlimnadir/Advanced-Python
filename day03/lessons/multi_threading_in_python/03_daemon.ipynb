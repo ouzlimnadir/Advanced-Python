{
 "cells": [
  {
   "cell_type": "code",
   "execution_count": 7,
   "id": "679dd977",
   "metadata": {},
   "outputs": [
    {
     "name": "stdout",
     "output_type": "stream",
     "text": [
      "One started.\n",
      "Two started.\n",
      "True\n",
      "True\n",
      "using multi-threading:  0.0013962230004835874\n"
     ]
    },
    {
     "ename": "SystemExit",
     "evalue": "",
     "output_type": "error",
     "traceback": [
      "An exception has occurred, use %tb to see the full traceback.\n",
      "\u001b[0;31mSystemExit\u001b[0m\n"
     ]
    },
    {
     "name": "stdout",
     "output_type": "stream",
     "text": [
      "One finished.\n",
      "Two finished.\n"
     ]
    }
   ],
   "source": [
    "from time import sleep, perf_counter\n",
    "from threading import Thread\n",
    "import sys\n",
    "\n",
    "# When daemon is False, the program does not exit until the thread is finished.\n",
    "# But, when daemon is True, the program exits whether the thread is finished or not.\n",
    "# In the example below, daemon is True. Therefore, the program exits on sys.exit() command even though the \n",
    "# threads are not finished yet.  \n",
    "\n",
    "\n",
    "start = perf_counter()\n",
    "\n",
    "def show(name):\n",
    "    print(f'{name} started.')\n",
    "    sleep(3)\n",
    "    print(f'{name} finished.')\n",
    "\n",
    "# daemon is False by default\n",
    "t1 = Thread(target=show, args=('One',), daemon= True)\n",
    "t2 = Thread(target=show, args=('Two',), daemon= True)\n",
    "\n",
    "# another way of setting daemon value is to use the setter:\n",
    "# t1.setDaemon(True)\n",
    "# t2.setDaemon(True)\n",
    "\n",
    "t1.start()\n",
    "t2.start()\n",
    "\n",
    "print(t1.isDaemon())\n",
    "print(t2.isDaemon())\n",
    "\n",
    "# When we use join, deamon value does not matter.\n",
    "\n",
    "# t1.join() # wait until thread t1 is finished\n",
    "# t2.join() # wait until thread t2 is finished\n",
    "\n",
    "end = perf_counter()\n",
    "\n",
    "print('using multi-threading: ', end - start)\n",
    "sys.exit()\n",
    "\n",
    "\n"
   ]
  },
  {
   "cell_type": "code",
   "execution_count": null,
   "id": "02d872f1",
   "metadata": {},
   "outputs": [],
   "source": []
  }
 ],
 "metadata": {
  "kernelspec": {
   "display_name": "Python 3",
   "language": "python",
   "name": "python3"
  },
  "language_info": {
   "codemirror_mode": {
    "name": "ipython",
    "version": 3
   },
   "file_extension": ".py",
   "mimetype": "text/x-python",
   "name": "python",
   "nbconvert_exporter": "python",
   "pygments_lexer": "ipython3",
   "version": "3.8.10"
  }
 },
 "nbformat": 4,
 "nbformat_minor": 5
}
